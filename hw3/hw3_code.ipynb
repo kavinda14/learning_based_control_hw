{
 "cells": [
  {
   "cell_type": "markdown",
   "id": "b3a3f390",
   "metadata": {},
   "source": [
    "# 1) TD LEARNING"
   ]
  },
  {
   "cell_type": "code",
   "execution_count": 47,
   "id": "e192dedd",
   "metadata": {},
   "outputs": [
    {
     "name": "stdout",
     "output_type": "stream",
     "text": [
      "Populating the interactive namespace from numpy and matplotlib\n"
     ]
    }
   ],
   "source": [
    "import numpy as np\n",
    "from tqdm import tqdm\n",
    "import matplotlib.pyplot as plt\n",
    "import seaborn as sns\n",
    "sns.set_style(\"darkgrid\")\n",
    "%pylab inline\n",
    "import random\n",
    "from IPython.display import Image"
   ]
  },
  {
   "cell_type": "code",
   "execution_count": 48,
   "id": "7f6fb095",
   "metadata": {},
   "outputs": [],
   "source": [
    "gamma = 0.6 # discounting rate\n",
    "reward_size = -1\n",
    "grid_size_x = 5\n",
    "grid_size_y = 10\n",
    "alpha = 0.5\n",
    "wall_states = [[7, 4], [7, 3], [7, 2]]\n",
    "actions = [[-1, 0], [1, 0], [0, 1], [0, -1]]\n",
    "num_iterations = 10000\n",
    "episode_length = 100"
   ]
  },
  {
   "cell_type": "code",
   "execution_count": 49,
   "id": "992d850d",
   "metadata": {},
   "outputs": [
    {
     "name": "stdout",
     "output_type": "stream",
     "text": [
      "[[0. 0. 0. 0. 0. 0. 0. 0. 0. 0.]\n",
      " [0. 0. 0. 0. 0. 0. 0. 0. 0. 0.]\n",
      " [0. 0. 0. 0. 0. 0. 0. 0. 0. 0.]\n",
      " [0. 0. 0. 0. 0. 0. 0. 0. 0. 0.]\n",
      " [0. 0. 0. 0. 0. 0. 0. 0. 0. 0.]]\n",
      "deltas:  {(0, 0): [], (0, 1): [], (0, 2): [], (0, 3): [], (0, 4): [], (0, 5): [], (0, 6): [], (0, 7): [], (0, 8): [], (0, 9): [], (1, 0): [], (1, 1): [], (1, 2): [], (1, 3): [], (1, 4): [], (1, 5): [], (1, 6): [], (1, 7): [], (1, 8): [], (1, 9): [], (2, 0): [], (2, 1): [], (2, 2): [], (2, 3): [], (2, 4): [], (2, 5): [], (2, 6): [], (2, 7): [], (2, 8): [], (2, 9): [], (3, 0): [], (3, 1): [], (3, 2): [], (3, 3): [], (3, 4): [], (3, 5): [], (3, 6): [], (3, 7): [], (3, 8): [], (3, 9): [], (4, 0): [], (4, 1): [], (4, 2): [], (4, 3): [], (4, 4): [], (4, 5): [], (4, 6): [], (4, 7): [], (4, 8): [], (4, 9): []}\n",
      "states:  [[0, 0], [0, 1], [0, 2], [0, 3], [0, 4], [0, 5], [0, 6], [0, 7], [0, 8], [0, 9], [1, 0], [1, 1], [1, 2], [1, 3], [1, 4], [1, 5], [1, 6], [1, 7], [1, 8], [1, 9], [2, 0], [2, 1], [2, 2], [2, 3], [2, 4], [2, 5], [2, 6], [2, 7], [2, 8], [2, 9], [3, 0], [3, 1], [3, 2], [3, 3], [3, 4], [3, 5], [3, 6], [3, 7], [3, 8], [3, 9], [4, 0], [4, 1], [4, 2], [4, 3], [4, 4], [4, 5], [4, 6], [4, 7], [4, 8], [4, 9]]\n"
     ]
    }
   ],
   "source": [
    "# initialization\n",
    "V = np.zeros((grid_size_x, grid_size_y))\n",
    "print(V)\n",
    "returns = {(i, j):list() for i in range(grid_size_x) for j in range(grid_size_y)}\n",
    "deltas = {(i, j):list() for i in range(grid_size_x) for j in range(grid_size_y)}\n",
    "print('deltas: ', deltas)\n",
    "states = [[i, j] for i in range(grid_size_x) for j in range(grid_size_y)]\n",
    "print('states: ', states)"
   ]
  },
  {
   "cell_type": "code",
   "execution_count": 50,
   "id": "a96606f0",
   "metadata": {},
   "outputs": [],
   "source": [
    "# utils\n",
    "def generate_initial_state():\n",
    "    init_state = random.choice(states[1:-1])\n",
    "    while init_state in wall_states:\n",
    "        init_state = random.choice(states[1:-1])\n",
    "    return init_state\n",
    "\n",
    "def generate_next_action():\n",
    "    return random.choice(actions)\n",
    "\n",
    "def take_action(state, action):\n",
    "    final_state = np.array(state)+np.array(action)\n",
    "    \n",
    "#     if (-1 in list(final_state) \n",
    "#     or grid_size_x in list(final_state) or grid_size_y in list(final_state) \n",
    "#     or list(final_state) in wall_states):\n",
    "#         # this means that the robot doesn't move\n",
    "#         # it stays in the same state that it was given\n",
    "#         final_state = state\n",
    "        \n",
    "    if (-1 in list(final_state) \n",
    "    or grid_size_x in list(final_state) or grid_size_y in list(final_state)):\n",
    "        # this means that the robot doesn't move\n",
    "        # it stays in the same state that it was given\n",
    "        final_state = state\n",
    "    \n",
    "    # this is the reward 20 state\n",
    "    if (list(final_state) == [3, 9]):\n",
    "        return 20, list(final_state) \n",
    "    \n",
    "    if (list(final_state) in wall_states):\n",
    "        return float(-inf), list(final_state)\n",
    "        \n",
    "    return reward_size, list(final_state)"
   ]
  },
  {
   "cell_type": "code",
   "execution_count": 53,
   "id": "99836a3c",
   "metadata": {},
   "outputs": [
    {
     "name": "stderr",
     "output_type": "stream",
     "text": [
      "100%|████████████████████████████████████| 10000/10000 [00:19<00:00, 524.05it/s]\n"
     ]
    }
   ],
   "source": [
    "for it in tqdm(range(num_iterations)):\n",
    "    # episode starts at a random cell\n",
    "    state = generate_initial_state()\n",
    "    \n",
    "    for _ in range(episode_length):\n",
    "        action = generate_next_action()\n",
    "        reward, final_state = take_action(state, action)\n",
    "        \n",
    "        if list(final_state) in wall_states:\n",
    "            print('here')\n",
    "            \n",
    "        # modify value function\n",
    "        before = V[state[0], state[1]]\n",
    "        V[state[0], state[1]] += alpha*(reward + gamma*V[final_state[0], final_state[1]] - V[state[0], state[1]])\n",
    "        deltas[state[0], state[1]].append(float(np.abs(before-V[state[0], state[1]])))\n",
    "        state = final_state"
   ]
  },
  {
   "cell_type": "code",
   "execution_count": 54,
   "id": "044a13c1",
   "metadata": {},
   "outputs": [
    {
     "name": "stdout",
     "output_type": "stream",
     "text": [
      "[[-2.5        -2.5        -2.5        -2.5        -2.5        -2.49798927\n",
      "  -2.49152007 -2.46403185 -2.28984483 -2.43063244]\n",
      " [-2.5        -2.5        -2.5        -2.5        -2.5        -2.49301866\n",
      "  -2.46897661 -2.24533402 -2.06618568 -2.35066527]\n",
      " [-2.5        -2.5        -2.5        -2.5        -2.5        -2.45114621\n",
      "  -2.4188437  -1.80338879 -2.12546475 -2.21509006]\n",
      " [-2.5        -2.5        -2.5        -2.5        -2.5        -2.39057322\n",
      "  -2.25794872 -1.29156453 12.06213735  1.9766072 ]\n",
      " [-2.5        -2.5        -2.5        -2.5        -2.5        -2.46914313\n",
      "  -2.34213254 -2.24290034  6.13376955 15.84930623]]\n"
     ]
    }
   ],
   "source": [
    "print(V)"
   ]
  },
  {
   "cell_type": "code",
   "execution_count": 111,
   "id": "6f42bc3e",
   "metadata": {},
   "outputs": [],
   "source": [
    "def visualize():\n",
    "    plt.xlim(0, grid_size_x)\n",
    "    plt.ylim(0, grid_size_y)\n",
    "    plt.gca().invert_yaxis()\n",
    "    plt.title(\"TD LEARNING\")\n",
    "    \n",
    "    for state in states:\n",
    "        value = float(\"{:.2f}\".format(V[state[0]][state[1]]))\n",
    "        plt.text(state[0], state[1], str(value), ha='left', va='center')\n",
    "    \n",
    "#     fig, ax = plt.subplots()\n",
    "    \n",
    "#     for (i, j), z in np.ndenumerate(V):\n",
    "#         plt.text(j, i, '{:0.1f}'.format(z), ha='center', va='center')\n",
    "\n",
    "# #     ax.matshow(V)\n",
    "\n",
    "#     plt.show()"
   ]
  },
  {
   "cell_type": "code",
   "execution_count": 112,
   "id": "be6b09ea",
   "metadata": {},
   "outputs": [
    {
     "data": {
      "image/png": "[encoded data removed]",
      "text/plain": [
       "<Figure size 432x288 with 1 Axes>"
      ]
     },
     "metadata": {
      "needs_background": "light"
     },
     "output_type": "display_data"
    }
   ],
   "source": [
    "visualize()"
   ]
  },
  {
   "cell_type": "code",
   "execution_count": null,
   "id": "068e68d7",
   "metadata": {},
   "outputs": [],
   "source": []
  }
 ],
 "metadata": {
  "kernelspec": {
   "display_name": "Python 3 (ipykernel)",
   "language": "python",
   "name": "python3"
  },
  "language_info": {
   "codemirror_mode": {
    "name": "ipython",
    "version": 3
   },
   "file_extension": ".py",
   "mimetype": "text/x-python",
   "name": "python",
   "nbconvert_exporter": "python",
   "pygments_lexer": "ipython3",
   "version": "3.8.10"
  }
 },
 "nbformat": 4,
 "nbformat_minor": 5
}
