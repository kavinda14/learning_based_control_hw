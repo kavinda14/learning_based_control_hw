{
 "cells": [
  {
   "cell_type": "markdown",
   "id": "0ee933a2",
   "metadata": {},
   "source": [
    "# 1) TD LEARNING"
   ]
  },
  {
   "cell_type": "code",
   "execution_count": 19,
   "id": "c3b0d7e0",
   "metadata": {},
   "outputs": [
    {
     "name": "stdout",
     "output_type": "stream",
     "text": [
      "Populating the interactive namespace from numpy and matplotlib\n"
     ]
    }
   ],
   "source": [
    "import numpy as np\n",
    "from tqdm import tqdm\n",
    "import matplotlib.pyplot as plt\n",
    "import seaborn as sns\n",
    "sns.set_style(\"darkgrid\")\n",
    "%pylab inline\n",
    "import random\n",
    "from IPython.display import Image"
   ]
  },
  {
   "cell_type": "code",
   "execution_count": 20,
   "id": "8171863e",
   "metadata": {},
   "outputs": [],
   "source": [
    "gamma = 0.6 # discounting rate\n",
    "reward_size = -1\n",
    "grid_size_x = 5\n",
    "grid_size_y = 10\n",
    "alpha = 0.5\n",
    "termination_states = [[0,0], [grid_size_x-1, grid_size_y-1]]\n",
    "wall_states = [[7, 4], [7, 3], [7, 2]]\n",
    "actions = [[-1, 0], [1, 0], [0, 1], [0, -1]]\n",
    "num_iterations = 10000\n",
    "episode_length = 100"
   ]
  },
  {
   "cell_type": "code",
   "execution_count": 21,
   "id": "90ea721e",
   "metadata": {},
   "outputs": [
    {
     "name": "stdout",
     "output_type": "stream",
     "text": [
      "[[0. 0. 0. 0. 0. 0. 0. 0. 0. 0.]\n",
      " [0. 0. 0. 0. 0. 0. 0. 0. 0. 0.]\n",
      " [0. 0. 0. 0. 0. 0. 0. 0. 0. 0.]\n",
      " [0. 0. 0. 0. 0. 0. 0. 0. 0. 0.]\n",
      " [0. 0. 0. 0. 0. 0. 0. 0. 0. 0.]]\n",
      "deltas:  {(0, 0): [], (0, 1): [], (0, 2): [], (0, 3): [], (0, 4): [], (0, 5): [], (0, 6): [], (0, 7): [], (0, 8): [], (0, 9): [], (1, 0): [], (1, 1): [], (1, 2): [], (1, 3): [], (1, 4): [], (1, 5): [], (1, 6): [], (1, 7): [], (1, 8): [], (1, 9): [], (2, 0): [], (2, 1): [], (2, 2): [], (2, 3): [], (2, 4): [], (2, 5): [], (2, 6): [], (2, 7): [], (2, 8): [], (2, 9): [], (3, 0): [], (3, 1): [], (3, 2): [], (3, 3): [], (3, 4): [], (3, 5): [], (3, 6): [], (3, 7): [], (3, 8): [], (3, 9): [], (4, 0): [], (4, 1): [], (4, 2): [], (4, 3): [], (4, 4): [], (4, 5): [], (4, 6): [], (4, 7): [], (4, 8): [], (4, 9): []}\n",
      "states:  [[0, 0], [0, 1], [0, 2], [0, 3], [0, 4], [0, 5], [0, 6], [0, 7], [0, 8], [0, 9], [1, 0], [1, 1], [1, 2], [1, 3], [1, 4], [1, 5], [1, 6], [1, 7], [1, 8], [1, 9], [2, 0], [2, 1], [2, 2], [2, 3], [2, 4], [2, 5], [2, 6], [2, 7], [2, 8], [2, 9], [3, 0], [3, 1], [3, 2], [3, 3], [3, 4], [3, 5], [3, 6], [3, 7], [3, 8], [3, 9], [4, 0], [4, 1], [4, 2], [4, 3], [4, 4], [4, 5], [4, 6], [4, 7], [4, 8], [4, 9]]\n"
     ]
    }
   ],
   "source": [
    "# initialization\n",
    "V = np.zeros((grid_size_x, grid_size_y))\n",
    "print(V)\n",
    "returns = {(i, j):list() for i in range(grid_size_x) for j in range(grid_size_y)}\n",
    "deltas = {(i, j):list() for i in range(grid_size_x) for j in range(grid_size_y)}\n",
    "print('deltas: ', deltas)\n",
    "states = [[i, j] for i in range(grid_size_x) for j in range(grid_size_y)]\n",
    "print('states: ', states)"
   ]
  },
  {
   "cell_type": "code",
   "execution_count": 22,
   "id": "5965c609",
   "metadata": {},
   "outputs": [],
   "source": [
    "# utils\n",
    "def generate_initial_state():\n",
    "    init_state = random.choice(states[1:-1])\n",
    "    while init_state in wall_states:\n",
    "        init_state = random.choice(states[1:-1])\n",
    "    return init_state\n",
    "\n",
    "def generate_next_action():\n",
    "    return random.choice(actions)\n",
    "\n",
    "def take_action(state, action):\n",
    "#     if list(state) in termination_states:\n",
    "#         return 0, None\n",
    "   \n",
    "    final_state = np.array(state)+np.array(action)\n",
    "    \n",
    "    if (-1 in list(final_state) \n",
    "    or grid_size_x in list(final_state) or grid_size_y in list(final_state) \n",
    "    or list(final_state) in wall_states):\n",
    "        # this means that the robot doesn't move\n",
    "        # it stays in the same state that it was given\n",
    "        final_state = state\n",
    "    \n",
    "    # this is the reward 20 state\n",
    "    if (list(final_state) == [3, 9]):\n",
    "        return 20, list(final_state) \n",
    "    \n",
    "    if (list(final_state) in wall_states):\n",
    "        return float(-inf), list(final_state)\n",
    "        \n",
    "    return reward_size, list(final_state)"
   ]
  },
  {
   "cell_type": "code",
   "execution_count": 23,
   "id": "24088166",
   "metadata": {},
   "outputs": [
    {
     "name": "stderr",
     "output_type": "stream",
     "text": [
      "100%|████████████████████████████████████| 10000/10000 [00:19<00:00, 523.11it/s]\n"
     ]
    }
   ],
   "source": [
    "for it in tqdm(range(num_iterations)):\n",
    "    state = generate_initial_state()\n",
    "    \n",
    "#     while True:\n",
    "    for _ in range(episode_length):\n",
    "        action = generate_next_action()\n",
    "        reward, final_state = take_action(state, action)\n",
    "        \n",
    "        # end is reached\n",
    "#         if final_state is None:\n",
    "#             break\n",
    "            \n",
    "        # modify value function\n",
    "        before = V[state[0], state[1]]\n",
    "        V[state[0], state[1]] += alpha*(reward + gamma*V[final_state[0], final_state[1]] - V[state[0], state[1]])\n",
    "        deltas[state[0], state[1]].append(float(np.abs(before-V[state[0], state[1]])))\n",
    "        state = final_state"
   ]
  },
  {
   "cell_type": "code",
   "execution_count": 24,
   "id": "145e06c8",
   "metadata": {},
   "outputs": [
    {
     "name": "stdout",
     "output_type": "stream",
     "text": [
      "[[-2.5        -2.5        -2.5        -2.5        -2.5        -2.49171406\n",
      "  -2.47742217 -2.47129751 -2.44224789 -2.4569748 ]\n",
      " [-2.5        -2.5        -2.5        -2.5        -2.5        -2.49750793\n",
      "  -2.4269442  -2.43764565 -2.17034091  0.92689311]\n",
      " [-2.5        -2.5        -2.5        -2.5        -2.5        -2.46981646\n",
      "  -2.43677945 -2.05607671 -1.4439445   2.06690809]\n",
      " [-2.5        -2.5        -2.5        -2.5        -2.5        -2.38185634\n",
      "  -2.44305627 -2.17982252 -1.87832943  2.03183463]\n",
      " [-2.5        -2.5        -2.5        -2.5        -2.5        -2.4850579\n",
      "  -2.45706073 -2.11748085  5.83380973 22.75062771]]\n"
     ]
    }
   ],
   "source": [
    "print(V)"
   ]
  },
  {
   "cell_type": "code",
   "execution_count": null,
   "id": "653af64e",
   "metadata": {},
   "outputs": [],
   "source": []
  }
 ],
 "metadata": {
  "kernelspec": {
   "display_name": "Python 3 (ipykernel)",
   "language": "python",
   "name": "python3"
  },
  "language_info": {
   "codemirror_mode": {
    "name": "ipython",
    "version": 3
   },
   "file_extension": ".py",
   "mimetype": "text/x-python",
   "name": "python",
   "nbconvert_exporter": "python",
   "pygments_lexer": "ipython3",
   "version": "3.8.10"
  }
 },
 "nbformat": 4,
 "nbformat_minor": 5
}
